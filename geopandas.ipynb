{
  "nbformat": 4,
  "nbformat_minor": 0,
  "metadata": {
    "colab": {
      "name": "geopandas.ipynb",
      "provenance": [],
      "collapsed_sections": []
    },
    "kernelspec": {
      "name": "python3",
      "display_name": "Python 3"
    },
    "language_info": {
      "name": "python"
    }
  },
  "cells": [
    {
      "cell_type": "code",
      "metadata": {
        "id": "6m_Vv7zTxYPu"
      },
      "source": [
        "!pip install geopandas"
      ],
      "execution_count": null,
      "outputs": []
    },
    {
      "cell_type": "code",
      "metadata": {
        "id": "3cluGHaX63GW"
      },
      "source": [
        "!pip install pandas fiona shapely pyproj rtree"
      ],
      "execution_count": null,
      "outputs": []
    },
    {
      "cell_type": "code",
      "metadata": {
        "id": "OvqTFQisxcES"
      },
      "source": [
        "import geopandas\n"
      ],
      "execution_count": 4,
      "outputs": []
    },
    {
      "cell_type": "code",
      "metadata": {
        "colab": {
          "base_uri": "https://localhost:8080/",
          "height": 204
        },
        "id": "wjl4fZVz0usS",
        "outputId": "7715cbe5-6741-4c5a-b7bc-0b39885f835e"
      },
      "source": [
        "import geopandas\n",
        "\n",
        "geo_df = geopandas.read_file(\"https://gist.githubusercontent.com/walkerke/76cb8cc5f949432f9555/raw/363c297ce82a4dcb9bdf003d82aa4f64bc695cf1/mx.geojson\")\n",
        "\n",
        "geo_df.head()"
      ],
      "execution_count": 6,
      "outputs": [
        {
          "output_type": "execute_result",
          "data": {
            "text/html": [
              "<div>\n",
              "<style scoped>\n",
              "    .dataframe tbody tr th:only-of-type {\n",
              "        vertical-align: middle;\n",
              "    }\n",
              "\n",
              "    .dataframe tbody tr th {\n",
              "        vertical-align: top;\n",
              "    }\n",
              "\n",
              "    .dataframe thead th {\n",
              "        text-align: right;\n",
              "    }\n",
              "</style>\n",
              "<table border=\"1\" class=\"dataframe\">\n",
              "  <thead>\n",
              "    <tr style=\"text-align: right;\">\n",
              "      <th></th>\n",
              "      <th>id</th>\n",
              "      <th>name</th>\n",
              "      <th>state</th>\n",
              "      <th>mus09</th>\n",
              "      <th>pri10</th>\n",
              "      <th>sec10</th>\n",
              "      <th>ter10</th>\n",
              "      <th>gdp08</th>\n",
              "      <th>other10</th>\n",
              "      <th>geometry</th>\n",
              "    </tr>\n",
              "  </thead>\n",
              "  <tbody>\n",
              "    <tr>\n",
              "      <th>0</th>\n",
              "      <td>1</td>\n",
              "      <td>Aguascalientes</td>\n",
              "      <td>Aguascalientes</td>\n",
              "      <td>17.1</td>\n",
              "      <td>6.34</td>\n",
              "      <td>28.74</td>\n",
              "      <td>64.28</td>\n",
              "      <td>84.70</td>\n",
              "      <td>0.64</td>\n",
              "      <td>MULTIPOLYGON (((-102.21140 22.35450, -102.1908...</td>\n",
              "    </tr>\n",
              "    <tr>\n",
              "      <th>1</th>\n",
              "      <td>2</td>\n",
              "      <td>Baja California</td>\n",
              "      <td>Baja California</td>\n",
              "      <td>15.4</td>\n",
              "      <td>5.44</td>\n",
              "      <td>31.64</td>\n",
              "      <td>61.68</td>\n",
              "      <td>83.07</td>\n",
              "      <td>1.24</td>\n",
              "      <td>MULTIPOLYGON (((-114.09429 28.02418, -114.0774...</td>\n",
              "    </tr>\n",
              "    <tr>\n",
              "      <th>2</th>\n",
              "      <td>3</td>\n",
              "      <td>Baja California Sur</td>\n",
              "      <td>Baja California Sur</td>\n",
              "      <td>3.0</td>\n",
              "      <td>9.18</td>\n",
              "      <td>17.48</td>\n",
              "      <td>72.37</td>\n",
              "      <td>94.64</td>\n",
              "      <td>0.97</td>\n",
              "      <td>MULTIPOLYGON (((-109.79843 24.15516, -109.8028...</td>\n",
              "    </tr>\n",
              "    <tr>\n",
              "      <th>3</th>\n",
              "      <td>4</td>\n",
              "      <td>Campeche</td>\n",
              "      <td>Campeche</td>\n",
              "      <td>7.0</td>\n",
              "      <td>19.24</td>\n",
              "      <td>21.20</td>\n",
              "      <td>57.11</td>\n",
              "      <td>395.55</td>\n",
              "      <td>2.45</td>\n",
              "      <td>MULTIPOLYGON (((-91.52440 18.76659, -91.52457 ...</td>\n",
              "    </tr>\n",
              "    <tr>\n",
              "      <th>4</th>\n",
              "      <td>5</td>\n",
              "      <td>Chiapas</td>\n",
              "      <td>Chiapas</td>\n",
              "      <td>13.9</td>\n",
              "      <td>42.76</td>\n",
              "      <td>13.51</td>\n",
              "      <td>42.90</td>\n",
              "      <td>34.44</td>\n",
              "      <td>0.83</td>\n",
              "      <td>MULTIPOLYGON (((-93.97061 16.00979, -93.96390 ...</td>\n",
              "    </tr>\n",
              "  </tbody>\n",
              "</table>\n",
              "</div>"
            ],
            "text/plain": [
              "   id  ...                                           geometry\n",
              "0   1  ...  MULTIPOLYGON (((-102.21140 22.35450, -102.1908...\n",
              "1   2  ...  MULTIPOLYGON (((-114.09429 28.02418, -114.0774...\n",
              "2   3  ...  MULTIPOLYGON (((-109.79843 24.15516, -109.8028...\n",
              "3   4  ...  MULTIPOLYGON (((-91.52440 18.76659, -91.52457 ...\n",
              "4   5  ...  MULTIPOLYGON (((-93.97061 16.00979, -93.96390 ...\n",
              "\n",
              "[5 rows x 10 columns]"
            ]
          },
          "metadata": {},
          "execution_count": 6
        }
      ]
    },
    {
      "cell_type": "code",
      "metadata": {
        "colab": {
          "base_uri": "https://localhost:8080/",
          "height": 275
        },
        "id": "RyLADrbu03i1",
        "outputId": "052d9a82-4205-4c10-a63d-0c3e4e0cdb29"
      },
      "source": [
        "geo_df.plot()"
      ],
      "execution_count": 6,
      "outputs": [
        {
          "output_type": "execute_result",
          "data": {
            "text/plain": [
              "<matplotlib.axes._subplots.AxesSubplot at 0x7f9b40667d90>"
            ]
          },
          "metadata": {},
          "execution_count": 6
        },
        {
          "output_type": "display_data",
          "data": {
            "image/png": "[encoded data removed]",
            "text/plain": [
              "<Figure size 432x288 with 1 Axes>"
            ]
          },
          "metadata": {
            "needs_background": "light"
          }
        }
      ]
    },
    {
      "cell_type": "code",
      "metadata": {
        "colab": {
          "base_uri": "https://localhost:8080/",
          "height": 204
        },
        "id": "DIxJe2tJ1dfF",
        "outputId": "bdd6f50b-f2ac-4e3c-e414-bf14c378d566"
      },
      "source": [
        "import pandas as pd\n",
        "import io \n",
        "import requests\n",
        "\n",
        "data = requests.get(\"https://simplemaps.com/static/data/country-cities/mx/mx.csv\")\n",
        "\n",
        "df = pd.read_csv(io.StringIO(data.content.decode('utf-8')))\n",
        "\n",
        "df.head()"
      ],
      "execution_count": 8,
      "outputs": [
        {
          "output_type": "execute_result",
          "data": {
            "text/html": [
              "<div>\n",
              "<style scoped>\n",
              "    .dataframe tbody tr th:only-of-type {\n",
              "        vertical-align: middle;\n",
              "    }\n",
              "\n",
              "    .dataframe tbody tr th {\n",
              "        vertical-align: top;\n",
              "    }\n",
              "\n",
              "    .dataframe thead th {\n",
              "        text-align: right;\n",
              "    }\n",
              "</style>\n",
              "<table border=\"1\" class=\"dataframe\">\n",
              "  <thead>\n",
              "    <tr style=\"text-align: right;\">\n",
              "      <th></th>\n",
              "      <th>city</th>\n",
              "      <th>lat</th>\n",
              "      <th>lng</th>\n",
              "      <th>country</th>\n",
              "      <th>iso2</th>\n",
              "      <th>admin_name</th>\n",
              "      <th>capital</th>\n",
              "      <th>population</th>\n",
              "      <th>population_proper</th>\n",
              "    </tr>\n",
              "  </thead>\n",
              "  <tbody>\n",
              "    <tr>\n",
              "      <th>0</th>\n",
              "      <td>Mexico City</td>\n",
              "      <td>19.4333</td>\n",
              "      <td>-99.1333</td>\n",
              "      <td>Mexico</td>\n",
              "      <td>MX</td>\n",
              "      <td>Ciudad de México</td>\n",
              "      <td>primary</td>\n",
              "      <td>20996000.0</td>\n",
              "      <td>8918653.0</td>\n",
              "    </tr>\n",
              "    <tr>\n",
              "      <th>1</th>\n",
              "      <td>Guadalajara</td>\n",
              "      <td>20.6767</td>\n",
              "      <td>-103.3475</td>\n",
              "      <td>Mexico</td>\n",
              "      <td>MX</td>\n",
              "      <td>Jalisco</td>\n",
              "      <td>admin</td>\n",
              "      <td>5253000.0</td>\n",
              "      <td>1460148.0</td>\n",
              "    </tr>\n",
              "    <tr>\n",
              "      <th>2</th>\n",
              "      <td>Monterrey</td>\n",
              "      <td>25.6667</td>\n",
              "      <td>-100.3000</td>\n",
              "      <td>Mexico</td>\n",
              "      <td>MX</td>\n",
              "      <td>Nuevo León</td>\n",
              "      <td>admin</td>\n",
              "      <td>4295000.0</td>\n",
              "      <td>1109171.0</td>\n",
              "    </tr>\n",
              "    <tr>\n",
              "      <th>3</th>\n",
              "      <td>Tijuana</td>\n",
              "      <td>32.5250</td>\n",
              "      <td>-117.0333</td>\n",
              "      <td>Mexico</td>\n",
              "      <td>MX</td>\n",
              "      <td>Baja California</td>\n",
              "      <td>minor</td>\n",
              "      <td>2384609.0</td>\n",
              "      <td>1902385.0</td>\n",
              "    </tr>\n",
              "    <tr>\n",
              "      <th>4</th>\n",
              "      <td>Ecatepec</td>\n",
              "      <td>19.6097</td>\n",
              "      <td>-99.0600</td>\n",
              "      <td>Mexico</td>\n",
              "      <td>MX</td>\n",
              "      <td>México</td>\n",
              "      <td>minor</td>\n",
              "      <td>1656107.0</td>\n",
              "      <td>1656107.0</td>\n",
              "    </tr>\n",
              "  </tbody>\n",
              "</table>\n",
              "</div>"
            ],
            "text/plain": [
              "          city      lat       lng  ...  capital  population population_proper\n",
              "0  Mexico City  19.4333  -99.1333  ...  primary  20996000.0         8918653.0\n",
              "1  Guadalajara  20.6767 -103.3475  ...    admin   5253000.0         1460148.0\n",
              "2    Monterrey  25.6667 -100.3000  ...    admin   4295000.0         1109171.0\n",
              "3      Tijuana  32.5250 -117.0333  ...    minor   2384609.0         1902385.0\n",
              "4     Ecatepec  19.6097  -99.0600  ...    minor   1656107.0         1656107.0\n",
              "\n",
              "[5 rows x 9 columns]"
            ]
          },
          "metadata": {},
          "execution_count": 8
        }
      ]
    },
    {
      "cell_type": "code",
      "metadata": {
        "colab": {
          "base_uri": "https://localhost:8080/",
          "height": 204
        },
        "id": "_EiejWep1oMF",
        "outputId": "6bd17cf8-323e-48a4-b10d-3a2355e6f904"
      },
      "source": [
        "geo_df2 = geopandas.GeoDataFrame(df, geometry=geopandas.points_from_xy(df.lng, df.lat), crs=\"EPSG:4326\")\n",
        "\n",
        "geo_df2.head()"
      ],
      "execution_count": 9,
      "outputs": [
        {
          "output_type": "execute_result",
          "data": {
            "text/html": [
              "<div>\n",
              "<style scoped>\n",
              "    .dataframe tbody tr th:only-of-type {\n",
              "        vertical-align: middle;\n",
              "    }\n",
              "\n",
              "    .dataframe tbody tr th {\n",
              "        vertical-align: top;\n",
              "    }\n",
              "\n",
              "    .dataframe thead th {\n",
              "        text-align: right;\n",
              "    }\n",
              "</style>\n",
              "<table border=\"1\" class=\"dataframe\">\n",
              "  <thead>\n",
              "    <tr style=\"text-align: right;\">\n",
              "      <th></th>\n",
              "      <th>city</th>\n",
              "      <th>lat</th>\n",
              "      <th>lng</th>\n",
              "      <th>country</th>\n",
              "      <th>iso2</th>\n",
              "      <th>admin_name</th>\n",
              "      <th>capital</th>\n",
              "      <th>population</th>\n",
              "      <th>population_proper</th>\n",
              "      <th>geometry</th>\n",
              "    </tr>\n",
              "  </thead>\n",
              "  <tbody>\n",
              "    <tr>\n",
              "      <th>0</th>\n",
              "      <td>Mexico City</td>\n",
              "      <td>19.4333</td>\n",
              "      <td>-99.1333</td>\n",
              "      <td>Mexico</td>\n",
              "      <td>MX</td>\n",
              "      <td>Ciudad de México</td>\n",
              "      <td>primary</td>\n",
              "      <td>20996000.0</td>\n",
              "      <td>8918653.0</td>\n",
              "      <td>POINT (-99.13330 19.43330)</td>\n",
              "    </tr>\n",
              "    <tr>\n",
              "      <th>1</th>\n",
              "      <td>Guadalajara</td>\n",
              "      <td>20.6767</td>\n",
              "      <td>-103.3475</td>\n",
              "      <td>Mexico</td>\n",
              "      <td>MX</td>\n",
              "      <td>Jalisco</td>\n",
              "      <td>admin</td>\n",
              "      <td>5253000.0</td>\n",
              "      <td>1460148.0</td>\n",
              "      <td>POINT (-103.34750 20.67670)</td>\n",
              "    </tr>\n",
              "    <tr>\n",
              "      <th>2</th>\n",
              "      <td>Monterrey</td>\n",
              "      <td>25.6667</td>\n",
              "      <td>-100.3000</td>\n",
              "      <td>Mexico</td>\n",
              "      <td>MX</td>\n",
              "      <td>Nuevo León</td>\n",
              "      <td>admin</td>\n",
              "      <td>4295000.0</td>\n",
              "      <td>1109171.0</td>\n",
              "      <td>POINT (-100.30000 25.66670)</td>\n",
              "    </tr>\n",
              "    <tr>\n",
              "      <th>3</th>\n",
              "      <td>Tijuana</td>\n",
              "      <td>32.5250</td>\n",
              "      <td>-117.0333</td>\n",
              "      <td>Mexico</td>\n",
              "      <td>MX</td>\n",
              "      <td>Baja California</td>\n",
              "      <td>minor</td>\n",
              "      <td>2384609.0</td>\n",
              "      <td>1902385.0</td>\n",
              "      <td>POINT (-117.03330 32.52500)</td>\n",
              "    </tr>\n",
              "    <tr>\n",
              "      <th>4</th>\n",
              "      <td>Ecatepec</td>\n",
              "      <td>19.6097</td>\n",
              "      <td>-99.0600</td>\n",
              "      <td>Mexico</td>\n",
              "      <td>MX</td>\n",
              "      <td>México</td>\n",
              "      <td>minor</td>\n",
              "      <td>1656107.0</td>\n",
              "      <td>1656107.0</td>\n",
              "      <td>POINT (-99.06000 19.60970)</td>\n",
              "    </tr>\n",
              "  </tbody>\n",
              "</table>\n",
              "</div>"
            ],
            "text/plain": [
              "          city      lat  ...  population_proper                     geometry\n",
              "0  Mexico City  19.4333  ...          8918653.0   POINT (-99.13330 19.43330)\n",
              "1  Guadalajara  20.6767  ...          1460148.0  POINT (-103.34750 20.67670)\n",
              "2    Monterrey  25.6667  ...          1109171.0  POINT (-100.30000 25.66670)\n",
              "3      Tijuana  32.5250  ...          1902385.0  POINT (-117.03330 32.52500)\n",
              "4     Ecatepec  19.6097  ...          1656107.0   POINT (-99.06000 19.60970)\n",
              "\n",
              "[5 rows x 10 columns]"
            ]
          },
          "metadata": {},
          "execution_count": 9
        }
      ]
    },
    {
      "cell_type": "code",
      "metadata": {
        "id": "jcZPWylI3zNf"
      },
      "source": [
        "intersect = geopandas.overlay(geo_df2, geo_df, how='intersection')\n"
      ],
      "execution_count": 25,
      "outputs": []
    },
    {
      "cell_type": "code",
      "metadata": {
        "colab": {
          "base_uri": "https://localhost:8080/",
          "height": 204
        },
        "id": "q4rkngAN5LLW",
        "outputId": "ef83b706-1816-4b46-b028-9f9cbf8650af"
      },
      "source": [
        "intersect.head()"
      ],
      "execution_count": 26,
      "outputs": [
        {
          "output_type": "execute_result",
          "data": {
            "text/html": [
              "<div>\n",
              "<style scoped>\n",
              "    .dataframe tbody tr th:only-of-type {\n",
              "        vertical-align: middle;\n",
              "    }\n",
              "\n",
              "    .dataframe tbody tr th {\n",
              "        vertical-align: top;\n",
              "    }\n",
              "\n",
              "    .dataframe thead th {\n",
              "        text-align: right;\n",
              "    }\n",
              "</style>\n",
              "<table border=\"1\" class=\"dataframe\">\n",
              "  <thead>\n",
              "    <tr style=\"text-align: right;\">\n",
              "      <th></th>\n",
              "      <th>city</th>\n",
              "      <th>lat</th>\n",
              "      <th>lng</th>\n",
              "      <th>country</th>\n",
              "      <th>iso2</th>\n",
              "      <th>admin_name</th>\n",
              "      <th>capital</th>\n",
              "      <th>population</th>\n",
              "      <th>population_proper</th>\n",
              "      <th>id</th>\n",
              "      <th>name</th>\n",
              "      <th>state</th>\n",
              "      <th>mus09</th>\n",
              "      <th>pri10</th>\n",
              "      <th>sec10</th>\n",
              "      <th>ter10</th>\n",
              "      <th>gdp08</th>\n",
              "      <th>other10</th>\n",
              "      <th>geometry</th>\n",
              "    </tr>\n",
              "  </thead>\n",
              "  <tbody>\n",
              "    <tr>\n",
              "      <th>0</th>\n",
              "      <td>Mexico City</td>\n",
              "      <td>19.4333</td>\n",
              "      <td>-99.1333</td>\n",
              "      <td>Mexico</td>\n",
              "      <td>MX</td>\n",
              "      <td>Ciudad de México</td>\n",
              "      <td>primary</td>\n",
              "      <td>20996000.0</td>\n",
              "      <td>8918653.0</td>\n",
              "      <td>9</td>\n",
              "      <td>Distrito Federal</td>\n",
              "      <td>Distrito Federal</td>\n",
              "      <td>4.8</td>\n",
              "      <td>0.68</td>\n",
              "      <td>16.48</td>\n",
              "      <td>80.72</td>\n",
              "      <td>172.88</td>\n",
              "      <td>2.12</td>\n",
              "      <td>POINT (-99.13330 19.43330)</td>\n",
              "    </tr>\n",
              "    <tr>\n",
              "      <th>1</th>\n",
              "      <td>Guadalajara</td>\n",
              "      <td>20.6767</td>\n",
              "      <td>-103.3475</td>\n",
              "      <td>Mexico</td>\n",
              "      <td>MX</td>\n",
              "      <td>Jalisco</td>\n",
              "      <td>admin</td>\n",
              "      <td>5253000.0</td>\n",
              "      <td>1460148.0</td>\n",
              "      <td>14</td>\n",
              "      <td>Jalisco</td>\n",
              "      <td>Jalisco</td>\n",
              "      <td>17.4</td>\n",
              "      <td>8.96</td>\n",
              "      <td>27.43</td>\n",
              "      <td>62.32</td>\n",
              "      <td>81.43</td>\n",
              "      <td>1.29</td>\n",
              "      <td>POINT (-103.34750 20.67670)</td>\n",
              "    </tr>\n",
              "    <tr>\n",
              "      <th>2</th>\n",
              "      <td>Zapopan</td>\n",
              "      <td>20.7167</td>\n",
              "      <td>-103.4000</td>\n",
              "      <td>Mexico</td>\n",
              "      <td>MX</td>\n",
              "      <td>Jalisco</td>\n",
              "      <td>minor</td>\n",
              "      <td>1155790.0</td>\n",
              "      <td>1155790.0</td>\n",
              "      <td>14</td>\n",
              "      <td>Jalisco</td>\n",
              "      <td>Jalisco</td>\n",
              "      <td>17.4</td>\n",
              "      <td>8.96</td>\n",
              "      <td>27.43</td>\n",
              "      <td>62.32</td>\n",
              "      <td>81.43</td>\n",
              "      <td>1.29</td>\n",
              "      <td>POINT (-103.40000 20.71670)</td>\n",
              "    </tr>\n",
              "    <tr>\n",
              "      <th>3</th>\n",
              "      <td>Tlajomulco de Zúñiga</td>\n",
              "      <td>20.4736</td>\n",
              "      <td>-103.4431</td>\n",
              "      <td>Mexico</td>\n",
              "      <td>MX</td>\n",
              "      <td>Jalisco</td>\n",
              "      <td>minor</td>\n",
              "      <td>727750.0</td>\n",
              "      <td>727750.0</td>\n",
              "      <td>14</td>\n",
              "      <td>Jalisco</td>\n",
              "      <td>Jalisco</td>\n",
              "      <td>17.4</td>\n",
              "      <td>8.96</td>\n",
              "      <td>27.43</td>\n",
              "      <td>62.32</td>\n",
              "      <td>81.43</td>\n",
              "      <td>1.29</td>\n",
              "      <td>POINT (-103.44310 20.47360)</td>\n",
              "    </tr>\n",
              "    <tr>\n",
              "      <th>4</th>\n",
              "      <td>Tlaquepaque</td>\n",
              "      <td>20.6167</td>\n",
              "      <td>-103.3167</td>\n",
              "      <td>Mexico</td>\n",
              "      <td>MX</td>\n",
              "      <td>Jalisco</td>\n",
              "      <td>minor</td>\n",
              "      <td>575942.0</td>\n",
              "      <td>575942.0</td>\n",
              "      <td>14</td>\n",
              "      <td>Jalisco</td>\n",
              "      <td>Jalisco</td>\n",
              "      <td>17.4</td>\n",
              "      <td>8.96</td>\n",
              "      <td>27.43</td>\n",
              "      <td>62.32</td>\n",
              "      <td>81.43</td>\n",
              "      <td>1.29</td>\n",
              "      <td>POINT (-103.31670 20.61670)</td>\n",
              "    </tr>\n",
              "  </tbody>\n",
              "</table>\n",
              "</div>"
            ],
            "text/plain": [
              "                   city      lat  ...  other10                     geometry\n",
              "0           Mexico City  19.4333  ...     2.12   POINT (-99.13330 19.43330)\n",
              "1           Guadalajara  20.6767  ...     1.29  POINT (-103.34750 20.67670)\n",
              "2               Zapopan  20.7167  ...     1.29  POINT (-103.40000 20.71670)\n",
              "3  Tlajomulco de Zúñiga  20.4736  ...     1.29  POINT (-103.44310 20.47360)\n",
              "4           Tlaquepaque  20.6167  ...     1.29  POINT (-103.31670 20.61670)\n",
              "\n",
              "[5 rows x 19 columns]"
            ]
          },
          "metadata": {},
          "execution_count": 26
        }
      ]
    },
    {
      "cell_type": "code",
      "metadata": {
        "colab": {
          "base_uri": "https://localhost:8080/"
        },
        "id": "z7ugFC13-EOP",
        "outputId": "31a9eeec-5c64-43bc-d3bd-2e0f16cd2518"
      },
      "source": [
        "grouped = intersect.groupby(['id','state'])['population'].agg('sum')\n",
        "\n",
        "grouped.head()"
      ],
      "execution_count": 30,
      "outputs": [
        {
          "output_type": "execute_result",
          "data": {
            "text/plain": [
              "id  state              \n",
              "1   Aguascalientes         1134592.0\n",
              "2   Baja California        3096413.0\n",
              "3   Baja California Sur     562887.0\n",
              "4   Campeche                337689.0\n",
              "5   Chiapas                2069811.0\n",
              "Name: population, dtype: float64"
            ]
          },
          "metadata": {},
          "execution_count": 30
        }
      ]
    },
    {
      "cell_type": "code",
      "metadata": {
        "id": "pV7bN5jD_aMk"
      },
      "source": [
        "merge = pd.merge(geo_df, grouped, on=\"id\")\n"
      ],
      "execution_count": 31,
      "outputs": []
    },
    {
      "cell_type": "code",
      "metadata": {
        "colab": {
          "base_uri": "https://localhost:8080/",
          "height": 204
        },
        "id": "nHmkn4YMD--v",
        "outputId": "10a839f9-c161-4943-cd3d-17ee2ead1e73"
      },
      "source": [
        "merge.head()"
      ],
      "execution_count": 32,
      "outputs": [
        {
          "output_type": "execute_result",
          "data": {
            "text/html": [
              "<div>\n",
              "<style scoped>\n",
              "    .dataframe tbody tr th:only-of-type {\n",
              "        vertical-align: middle;\n",
              "    }\n",
              "\n",
              "    .dataframe tbody tr th {\n",
              "        vertical-align: top;\n",
              "    }\n",
              "\n",
              "    .dataframe thead th {\n",
              "        text-align: right;\n",
              "    }\n",
              "</style>\n",
              "<table border=\"1\" class=\"dataframe\">\n",
              "  <thead>\n",
              "    <tr style=\"text-align: right;\">\n",
              "      <th></th>\n",
              "      <th>id</th>\n",
              "      <th>name</th>\n",
              "      <th>state</th>\n",
              "      <th>mus09</th>\n",
              "      <th>pri10</th>\n",
              "      <th>sec10</th>\n",
              "      <th>ter10</th>\n",
              "      <th>gdp08</th>\n",
              "      <th>other10</th>\n",
              "      <th>geometry</th>\n",
              "      <th>population</th>\n",
              "    </tr>\n",
              "  </thead>\n",
              "  <tbody>\n",
              "    <tr>\n",
              "      <th>0</th>\n",
              "      <td>1</td>\n",
              "      <td>Aguascalientes</td>\n",
              "      <td>Aguascalientes</td>\n",
              "      <td>17.1</td>\n",
              "      <td>6.34</td>\n",
              "      <td>28.74</td>\n",
              "      <td>64.28</td>\n",
              "      <td>84.70</td>\n",
              "      <td>0.64</td>\n",
              "      <td>MULTIPOLYGON (((-102.21140 22.35450, -102.1908...</td>\n",
              "      <td>1134592.0</td>\n",
              "    </tr>\n",
              "    <tr>\n",
              "      <th>1</th>\n",
              "      <td>2</td>\n",
              "      <td>Baja California</td>\n",
              "      <td>Baja California</td>\n",
              "      <td>15.4</td>\n",
              "      <td>5.44</td>\n",
              "      <td>31.64</td>\n",
              "      <td>61.68</td>\n",
              "      <td>83.07</td>\n",
              "      <td>1.24</td>\n",
              "      <td>MULTIPOLYGON (((-114.09429 28.02418, -114.0774...</td>\n",
              "      <td>3096413.0</td>\n",
              "    </tr>\n",
              "    <tr>\n",
              "      <th>2</th>\n",
              "      <td>3</td>\n",
              "      <td>Baja California Sur</td>\n",
              "      <td>Baja California Sur</td>\n",
              "      <td>3.0</td>\n",
              "      <td>9.18</td>\n",
              "      <td>17.48</td>\n",
              "      <td>72.37</td>\n",
              "      <td>94.64</td>\n",
              "      <td>0.97</td>\n",
              "      <td>MULTIPOLYGON (((-109.79843 24.15516, -109.8028...</td>\n",
              "      <td>562887.0</td>\n",
              "    </tr>\n",
              "    <tr>\n",
              "      <th>3</th>\n",
              "      <td>4</td>\n",
              "      <td>Campeche</td>\n",
              "      <td>Campeche</td>\n",
              "      <td>7.0</td>\n",
              "      <td>19.24</td>\n",
              "      <td>21.20</td>\n",
              "      <td>57.11</td>\n",
              "      <td>395.55</td>\n",
              "      <td>2.45</td>\n",
              "      <td>MULTIPOLYGON (((-91.52440 18.76659, -91.52457 ...</td>\n",
              "      <td>337689.0</td>\n",
              "    </tr>\n",
              "    <tr>\n",
              "      <th>4</th>\n",
              "      <td>5</td>\n",
              "      <td>Chiapas</td>\n",
              "      <td>Chiapas</td>\n",
              "      <td>13.9</td>\n",
              "      <td>42.76</td>\n",
              "      <td>13.51</td>\n",
              "      <td>42.90</td>\n",
              "      <td>34.44</td>\n",
              "      <td>0.83</td>\n",
              "      <td>MULTIPOLYGON (((-93.97061 16.00979, -93.96390 ...</td>\n",
              "      <td>2069811.0</td>\n",
              "    </tr>\n",
              "  </tbody>\n",
              "</table>\n",
              "</div>"
            ],
            "text/plain": [
              "   id  ... population\n",
              "0   1  ...  1134592.0\n",
              "1   2  ...  3096413.0\n",
              "2   3  ...   562887.0\n",
              "3   4  ...   337689.0\n",
              "4   5  ...  2069811.0\n",
              "\n",
              "[5 rows x 11 columns]"
            ]
          },
          "metadata": {},
          "execution_count": 32
        }
      ]
    },
    {
      "cell_type": "code",
      "metadata": {
        "colab": {
          "base_uri": "https://localhost:8080/",
          "height": 538
        },
        "id": "o-a8JiMKEAF-",
        "outputId": "1157622f-5612-4d06-f388-340d9b3c5330"
      },
      "source": [
        "import matplotlib.pyplot as plt\n",
        "\n",
        "merge.plot(column='population', figsize=(10,10), legend_kwds={'label': \"Population by State\", 'orientation': \"horizontal\"}, legend=True, cmap='OrRd')"
      ],
      "execution_count": 56,
      "outputs": [
        {
          "output_type": "execute_result",
          "data": {
            "text/plain": [
              "<matplotlib.axes._subplots.AxesSubplot at 0x7f9b34e4d2d0>"
            ]
          },
          "metadata": {},
          "execution_count": 56
        },
        {
          "output_type": "display_data",
          "data": {
            "image/png": "[encoded data removed]",
            "text/plain": [
              "<Figure size 720x720 with 2 Axes>"
            ]
          },
          "metadata": {
            "needs_background": "light"
          }
        }
      ]
    }
  ]
}